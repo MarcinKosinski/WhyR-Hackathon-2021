{
 "cells": [
  {
   "cell_type": "code",
   "execution_count": 1,
   "metadata": {},
   "outputs": [],
   "source": [
    "from nltk.tag.stanford import StanfordNERTagger\n",
    "from itertools import compress\n",
    "import pandas as pd\n",
    "import numpy as np\n",
    "import math\n",
    "import re\n",
    "import nltk"
   ]
  },
  {
   "cell_type": "code",
   "execution_count": 2,
   "metadata": {},
   "outputs": [],
   "source": [
    "def data2features(data):\n",
    "    # reorder columns dataframe\n",
    "    data = data[[\"label\",\"title_x\",\"title_y\",\"authors_x\",\"authors_y\", \"venue_x\", \"venue_y\", \"year_x\", \"year_y\"]]\n",
    "\n",
    "    # define venue transformation\n",
    "    venue_transform = {'acm sigmod record': \"sigmod rec\",\n",
    "                       'sigmod record' :    \"sigmod rec\",\n",
    "                       'sigmod':\"sigmod rec\",\n",
    "                       'record' : \"sigmod rec\",\n",
    "                       \"conference\" : \"sigmod conf\",\n",
    "                       'international conference on management of data': \"sigmod conf\", \n",
    "                       'sigmod conference' : \"sigmod conf\",\n",
    "                       'acm trans . database syst .': \"trans\",\n",
    "                       \"tods\" : \"trans\",\n",
    "                       'acm transactions on database systems ( tods )': \"trans\",\n",
    "                       \"transactions on database systems\" : \"trans\",\n",
    "                       'the vldb journal -- the international journal on very large data bases': \"vldb\",\n",
    "                       'very large data bases' : \"vldb\",\n",
    "                       'vldb': \"vldb\", \n",
    "                       'vldb j.' : \"vldb\",\n",
    "                       \"nan\" : \"NAN\"}\n",
    "\n",
    "    # normalize venue_x\n",
    "    data[\"venue_x\"] = [venue_transform[str(x)] for x in data[\"venue_x\"]]\n",
    "    data[\"venue_y\"] = [venue_transform[str(x)] for x in data[\"venue_y\"]]\n",
    "\n",
    "\n",
    "    # Extract venue from title\n",
    "    ## X\n",
    "    long_venue = ['acm sigmod record', 'acm trans . database syst .',\n",
    "           'acm transactions on database systems ( tods )',\n",
    "            \"transactions on database systems\",\n",
    "           'international conference on management of data',\n",
    "           'sigmod conference', 'sigmod record',\n",
    "           'the vldb journal -- the international journal on very large data bases',\n",
    "           'very large data bases',]\n",
    "    short_venue = [\"tods\",'vldb', 'record','conference', \"sigmod\"]\n",
    "\n",
    "    for venue in long_venue:\n",
    "        long_idx = data.title_x.str.find(venue)\n",
    "        data.title_x = data.title_x.str.replace(venue, \"\")\n",
    "        data.loc[long_idx>0, \"venue_x\"] = [venue_transform[venue]]*sum(long_idx>0)\n",
    "\n",
    "    for venue in short_venue:\n",
    "        long_idx = data.title_x.str.find(venue)\n",
    "        data.title_x = data.title_x.str.replace(venue, \"\")\n",
    "        print(sum((long_idx>0) & (data[\"venue_x\"]==\"NAN\")))\n",
    "\n",
    "        data.loc[(long_idx>0) & (data[\"venue_x\"]==\"NAN\"), \"venue_x\"] = [venue_transform[venue]]*sum((long_idx>0) & (data\n",
    "                                                                                                                    [\"venue_x\"]==\"NAN\"))\n",
    "\n",
    "    ## Y\n",
    "    for venue in long_venue:\n",
    "        long_idx = data.title_y.str.find(venue)\n",
    "        data.title_y = data.title_y.str.replace(venue, \"\")\n",
    "        data.loc[long_idx>0, \"venue_y\"] = [venue_transform[venue]]*sum(long_idx>0)\n",
    "\n",
    "    for venue in short_venue:\n",
    "        long_idx = data.title_y.str.find(venue)\n",
    "        data.title_y = data.title_y.str.replace(venue, \"\")\n",
    "        print(sum((long_idx>0) & (data[\"venue_y\"]==\"NAN\")))\n",
    "        data.loc[(long_idx>0) & (data[\"venue_y\"]==\"NAN\"), \"venue_y\"] = [venue_transform[venue]]*sum((long_idx>0) & (data[\"venue_y\"]==\"NAN\"))\n",
    "\n",
    "    def extract_year(string_list):\n",
    "        return [re.findall('(\\d{4})', text) for text in string_list]\n",
    "\n",
    "    def extract_names(string_list):\n",
    "        st = StanfordNERTagger('stanford-ner/classifiers/english.all.3class.distsim.crf.ser.gz',\n",
    "                           'stanford-ner/stanford-ner.jar')\n",
    "        all_names = []\n",
    "        for text in string_list:\n",
    "            names = []\n",
    "            for sent in nltk.sent_tokenize(text):\n",
    "                tokens = nltk.tokenize.word_tokenize(sent)\n",
    "                tags = st.tag(tokens)\n",
    "                for tag in tags:\n",
    "                    if tag[1] in [\"PERSON\"]:\n",
    "                        names.append(tag[0])\n",
    "            all_names.append(names)\n",
    "        return all_names\n",
    "\n",
    "    # extract year from title\n",
    "    ## X\n",
    "    year_from_title = extract_year(data.title_x)\n",
    "    year_from_title_idx = [len(year) for year in year_from_title]\n",
    "    data.loc[year_from_title_idx & (pd.isnull(data.year_x)), \"year_x\"] = [x[0] for x in compress(year_from_title, year_from_title_idx& (pd.isnull(data.year_x)))]\n",
    "    data.title_x = [re.sub('(\\d{4})',\"\", text) for text in data.title_x]\n",
    "    \n",
    "    ## Y\n",
    "    year_from_title = extract_year(data.title_y)\n",
    "    year_from_title_idx = [len(year) for year in year_from_title]\n",
    "    data.loc[year_from_title_idx & (pd.isnull(data.year_y)), \"year_y\"] = [x[0] for x in compress(year_from_title, year_from_title_idx & (pd.isnull(data.year_y)))]\n",
    "    data.title_y = [re.sub('(\\d{4})',\"\", text) for text in data.title_y]\n",
    "\n",
    "    # cut the longer title to fit the lenght of the shorter\n",
    "    for i in range(data.shape[0]):\n",
    "        row = data.iloc[i]\n",
    "        title_x_len = len(row.title_x)\n",
    "        title_y_len = len(row.title_y)\n",
    "        min_title_len = min(title_x_len,title_y_len)\n",
    "        if title_x_len<title_y_len:\n",
    "            sub_title_y = row.title_y[:min_title_len]\n",
    "            authors_y = row.title_y[min_title_len:]\n",
    "            if not pd.isnull(row.authors_y):\n",
    "                authors_y += row.authors_y\n",
    "            sub_title_x = row.title_x\n",
    "            authors_x = row.authors_x\n",
    "        elif title_x_len>title_y_len:\n",
    "            sub_title_x = row.title_x[:min_title_len]\n",
    "            authors_x = row.title_x[min_title_len:]\n",
    "            if not pd.isnull(row.authors_x):\n",
    "                authors_x += row.authors_x\n",
    "            sub_title_y = row.title_y\n",
    "            authors_y = row.authors_y\n",
    "        else:\n",
    "            sub_title_x = row.title_x\n",
    "            sub_title_y = row.title_y\n",
    "            authors_y = row.authors_y\n",
    "            authors_x = row.authors_x\n",
    "\n",
    "        data.at[i,\"title_x\"] = sub_title_x\n",
    "        data.at[i,\"title_y\"] = sub_title_y\n",
    "        data.at[i,\"authors_x\"] = authors_x\n",
    "        data.at[i,\"authors_y\"] = authors_y\n",
    "\n",
    "    #------------------------\n",
    "    # Create features\n",
    "    #--------------------------\n",
    "    \n",
    "    # create equal year and neq year feature\n",
    "    year_diff = np.abs(data.year_x.astype(float) - data.year_y.astype(float))\n",
    "    eq_yaer  = (year_diff == 0 )\n",
    "    neq_year   = (year_diff > 0)\n",
    "\n",
    "    # is venue of X equal venue of Y?\n",
    "    venue_diff = ( data.venue_x == data.venue_y )\n",
    "\n",
    "    # string distanse for Title and authors\n",
    "    from hermetrics.jaccard import Jaccard\n",
    "    from hermetrics.damerau_levenshtein import DamerauLevenshtein\n",
    "    from hermetrics.jaro_winkler import JaroWinkler\n",
    "    from strsimpy.qgram import QGram\n",
    "\n",
    "    jaw = JaroWinkler()\n",
    "    dam = DamerauLevenshtein()\n",
    "    jac = Jaccard()\n",
    "    qgram = QGram(3)\n",
    "\n",
    "    Jaro_title = [jaw.distance(str(x), str(y)) for x,y in zip(data.title_x, data.title_y)]\n",
    "    Damerau_title = [dam.normalized_distance(str(x), str(y)) for x,y in zip(data.title_x, data.title_y)]\n",
    "    Jaccard_title = [jac.distance(str(x), str(y)) for x,y in zip(data.title_x, data.title_y)]\n",
    "    Qgram_title = [qgram.distance(str(x), str(y))/(max(len(str(x)), len(str(y)))-2) for x,y in zip(data.title_x, data.title_y)]\n",
    "\n",
    "    Jaro_authors = [jaw.distance(str(x), str(y)) for x,y in zip(data.authors_x, data.authors_y)]\n",
    "    Damerau_authors = [dam.normalized_distance(str(x), str(y)) for x,y in zip(data.authors_x, data.authors_y)]\n",
    "    Jaccard_authors = [jac.distance(str(x), str(y)) for x,y in zip(data.authors_x, data.authors_y)]\n",
    "    Qgram_authors = [qgram.distance(str(x), str(y))/(max(len(str(x)), len(str(y)))-2) for x,y in zip(data.authors_x, data.authors_y)]\n",
    "\n",
    "    # create the feature matrix\n",
    "    data_feature = {\"Jaro_title\":Jaro_title,\n",
    "                    \"Damerau_title\":Damerau_title,\n",
    "                    \"Jaccard_title\": Jaccard_title,\n",
    "                    \"Qgram_title\": Qgram_title,\n",
    "                    \"Jaro_authors\": Jaro_authors,\n",
    "                    \"Damerau_authors\": Damerau_authors,\n",
    "                    \"Jaccard_authors\": Jaccard_authors,\n",
    "                    \"Qgram_authors\": Qgram_authors,\n",
    "                    \"eq_yaer\": eq_yaer,\n",
    "                    \"neq_year\": neq_year,\n",
    "                    \"venue_diff\": venue_diff}\n",
    "    data_features = pd.DataFrame(data_feature)\n",
    "    return data_features"
   ]
  },
  {
   "cell_type": "code",
   "execution_count": null,
   "metadata": {},
   "outputs": [
    {
     "name": "stderr",
     "output_type": "stream",
     "text": [
      "<ipython-input-2-9dda066f4ee6>:24: SettingWithCopyWarning: \n",
      "A value is trying to be set on a copy of a slice from a DataFrame.\n",
      "Try using .loc[row_indexer,col_indexer] = value instead\n",
      "\n",
      "See the caveats in the documentation: https://pandas.pydata.org/pandas-docs/stable/user_guide/indexing.html#returning-a-view-versus-a-copy\n",
      "  data[\"venue_x\"] = [venue_transform[str(x)] for x in data[\"venue_x\"]]\n",
      "<ipython-input-2-9dda066f4ee6>:25: SettingWithCopyWarning: \n",
      "A value is trying to be set on a copy of a slice from a DataFrame.\n",
      "Try using .loc[row_indexer,col_indexer] = value instead\n",
      "\n",
      "See the caveats in the documentation: https://pandas.pydata.org/pandas-docs/stable/user_guide/indexing.html#returning-a-view-versus-a-copy\n",
      "  data[\"venue_y\"] = [venue_transform[str(x)] for x in data[\"venue_y\"]]\n",
      "/home/robert/venv/lib/python3.8/site-packages/pandas/core/generic.py:5303: SettingWithCopyWarning: \n",
      "A value is trying to be set on a copy of a slice from a DataFrame.\n",
      "Try using .loc[row_indexer,col_indexer] = value instead\n",
      "\n",
      "See the caveats in the documentation: https://pandas.pydata.org/pandas-docs/stable/user_guide/indexing.html#returning-a-view-versus-a-copy\n",
      "  self[name] = value\n",
      "/home/robert/venv/lib/python3.8/site-packages/pandas/core/indexing.py:966: SettingWithCopyWarning: \n",
      "A value is trying to be set on a copy of a slice from a DataFrame.\n",
      "Try using .loc[row_indexer,col_indexer] = value instead\n",
      "\n",
      "See the caveats in the documentation: https://pandas.pydata.org/pandas-docs/stable/user_guide/indexing.html#returning-a-view-versus-a-copy\n",
      "  self.obj[item] = s\n"
     ]
    },
    {
     "name": "stdout",
     "output_type": "stream",
     "text": [
      "0\n",
      "1559\n",
      "0\n",
      "0\n",
      "0\n",
      "0\n",
      "0\n",
      "0\n",
      "0\n",
      "0\n"
     ]
    }
   ],
   "source": [
    "tableA_df = pd.read_csv(\"data/tableA.csv\")\n",
    "tableB_df = pd.read_csv(\"data/tableB.csv\")\n",
    "train_df = pd.read_csv(\"data/train.csv\")\n",
    "train_df[\"order\"] = list(range(train_df.shape[0]))\n",
    "validation_df = pd.read_csv(\"data/valid.csv\")\n",
    "validation_df[\"order\"] = list(range(validation_df.shape[0]))\n",
    "# merge train.val df with tableA and tableB\n",
    "train_df_merged = train_df.merge(tableA_df,left_on=\"ltable_id\", right_on=\"id\", sort=False).merge(tableB_df,left_on=\"rtable_id\", right_on=\"id\", sort=False)\n",
    "train_df_merged = train_df_merged.sort_values(\"order\").reset_index()\n",
    "train_df_merged = train_df_merged.drop(\"order\", axis=1)\n",
    "\n",
    "validation_df_merged = validation_df.merge(tableA_df,left_on=\"ltable_id\", right_on=\"id\", sort=False).merge(tableB_df,left_on=\"rtable_id\", right_on=\"id\", sort=False)\n",
    "validation_df_merged = validation_df_merged.sort_values(\"order\").reset_index()\n",
    "validation_df_merged = validation_df_merged.drop(\"order\", axis=1)\n",
    "\n",
    "train_df_features = data2features(train_df_merged)\n",
    "validation_df_features = data2features(validation_df_merged)"
   ]
  },
  {
   "cell_type": "markdown",
   "metadata": {},
   "source": [
    "## Cross-validation "
   ]
  },
  {
   "cell_type": "code",
   "execution_count": 63,
   "metadata": {},
   "outputs": [],
   "source": [
    "from sklearn.linear_model import LogisticRegression\n",
    "from sklearn.model_selection import StratifiedKFold\n",
    "from sklearn.metrics import accuracy_score\n",
    "from sklearn.metrics import f1_score\n",
    "import plotly.graph_objects as go\n",
    "from plotly.subplots import make_subplots\n",
    "n_splits = 10\n",
    "cv = StratifiedKFold(n_splits=n_splits).split(train_df_features, train_df.label)\n",
    "threshold = 0.7\n",
    "\n",
    "results_train_acc = []\n",
    "results_train_f1 = []\n",
    "results_test_acc = []\n",
    "results_test_f1 = []\n",
    "\n",
    "for train_id, test_idx in cv:\n",
    "    y_true_train = train_df.label[train_id]\n",
    "    y_true_test = train_df.label[test_idx]\n",
    "    \n",
    "    model = LogisticRegression().fit(X = train_df_features.iloc[train_id], y= train_df.label[train_id])\n",
    "    y_pred_train = model.predict(train_df_features.iloc[train_id])\n",
    "    y_pred_test =  model.predict(train_df_features.iloc[test_idx])\n",
    "    \n",
    "    results_train_acc.append(accuracy_score(y_true_train, y_pred_train))\n",
    "    results_train_f1.append(f1_score(y_true_train, y_pred_train))\n",
    "    results_test_acc.append(accuracy_score(y_true_test, y_pred_test))\n",
    "    results_test_f1.append(f1_score(y_true_test, y_pred_test))\n",
    "\n",
    "x = np.arange(n_splits)\n",
    "\n",
    "fig = make_subplots(rows=1, cols=2, shared_yaxes=True,\n",
    "                    subplot_titles=['Accuracy', 'F1 Score'])\n",
    "\n",
    "fig.add_trace(\n",
    "    go.Scatter(\n",
    "        x=x,\n",
    "        y=results_train_acc,\n",
    "        mode='lines',\n",
    "        name='Accuracy train',\n",
    "        marker=dict(\n",
    "            color='blue',\n",
    "            line=dict(\n",
    "                color='blue'\n",
    "            )\n",
    "        )\n",
    "    ),\n",
    "    row=1,\n",
    "    col=1\n",
    ")\n",
    "\n",
    "fig.add_trace(\n",
    "    go.Scatter(\n",
    "        x=x,\n",
    "        y=results_test_acc,\n",
    "        mode='lines+markers',\n",
    "        name='Accuracy test',\n",
    "        marker=dict(\n",
    "            color='red',\n",
    "            line=dict(\n",
    "                color='red'\n",
    "            )\n",
    "        )\n",
    "    ),\n",
    "    row=1,\n",
    "    col=1\n",
    ")\n",
    "\n",
    "fig.add_trace(\n",
    "    go.Scatter(\n",
    "        x=x,\n",
    "        y=results_train_f1,\n",
    "        mode='lines',\n",
    "        name='F1 train',\n",
    "        marker=dict(\n",
    "            color='blue',\n",
    "            line=dict(\n",
    "                color='blue'\n",
    "            )\n",
    "        )\n",
    "    ),\n",
    "    row=1,\n",
    "    col=2\n",
    ")\n",
    "\n",
    "fig.add_trace(\n",
    "    go.Scatter(\n",
    "        x=x,\n",
    "        y=results_test_f1,\n",
    "        mode='lines+markers',\n",
    "        name='F1 test',\n",
    "        marker=dict(\n",
    "            color='red',\n",
    "            line=dict(\n",
    "                color='red'\n",
    "            )\n",
    "        )\n",
    "    ),\n",
    "    row=1,\n",
    "    col=2\n",
    ")\n",
    "\n",
    "fig.update_layout(yaxis_range=[0, 1])\n",
    "\n",
    "fig.write_html(\"results.html\")"
   ]
  },
  {
   "cell_type": "code",
   "execution_count": 64,
   "metadata": {},
   "outputs": [
    {
     "data": {
      "text/plain": [
       "0.9917757019544509"
      ]
     },
     "execution_count": 64,
     "metadata": {},
     "output_type": "execute_result"
    }
   ],
   "source": [
    "np.mean(results_test_acc)"
   ]
  },
  {
   "cell_type": "markdown",
   "metadata": {},
   "source": [
    "# Save predictions"
   ]
  },
  {
   "cell_type": "code",
   "execution_count": 66,
   "metadata": {},
   "outputs": [
    {
     "name": "stdout",
     "output_type": "stream",
     "text": [
      "0.9919104759336659\n"
     ]
    }
   ],
   "source": [
    "model = LogisticRegression(random_state=0).fit(train_df_features, train_df.label)\n",
    "print(accuracy_score(model.predict(train_df_features), train_df.label))\n",
    "VALIDATION_PRED = model.predict(validation_df_features)\n",
    "validation_df.label = VALIDATION_PRED\n",
    "validation_df.to_csv(\"LogReg_final_pred.csv\")"
   ]
  },
  {
   "cell_type": "markdown",
   "metadata": {},
   "source": [
    "## AutoML"
   ]
  },
  {
   "cell_type": "code",
   "execution_count": 67,
   "metadata": {},
   "outputs": [],
   "source": [
    "from tpot import TPOTClassifier\n",
    "\n",
    "tpot = TPOTClassifier(cv=10, generations=20, population_size=50, verbosity=2, random_state=42, n_jobs=-1)"
   ]
  },
  {
   "cell_type": "code",
   "execution_count": 68,
   "metadata": {},
   "outputs": [
    {
     "name": "stderr",
     "output_type": "stream",
     "text": [
      "Version 0.11.6 of tpot is outdated. Version 0.11.7 was released Wednesday January 06, 2021.\n"
     ]
    },
    {
     "data": {
      "application/vnd.jupyter.widget-view+json": {
       "model_id": "",
       "version_major": 2,
       "version_minor": 0
      },
      "text/plain": [
       "HBox(children=(HTML(value='Optimization Progress'), FloatProgress(value=0.0, max=1050.0), HTML(value='')))"
      ]
     },
     "metadata": {},
     "output_type": "display_data"
    },
    {
     "name": "stdout",
     "output_type": "stream",
     "text": [
      "\n",
      "Generation 1 - Current best internal CV score: 0.9924504657871094\n",
      "\n",
      "Generation 2 - Current best internal CV score: 0.9927196438119974\n",
      "\n",
      "Generation 3 - Current best internal CV score: 0.9927196438119974\n",
      "\n",
      "Generation 4 - Current best internal CV score: 0.9927196438119974\n",
      "\n",
      "Generation 5 - Current best internal CV score: 0.9927196438119974\n",
      "\n",
      "Generation 6 - Current best internal CV score: 0.9928549603326168\n",
      "\n",
      "Generation 7 - Current best internal CV score: 0.9928549603326168\n",
      "\n",
      "Generation 8 - Current best internal CV score: 0.9928549603326168\n",
      "\n",
      "Generation 9 - Current best internal CV score: 0.9929895493450609\n",
      "\n",
      "Generation 10 - Current best internal CV score: 0.993123956480461\n",
      "\n",
      "Generation 11 - Current best internal CV score: 0.993123956480461\n",
      "\n",
      "Generation 12 - Current best internal CV score: 0.9932589092469927\n",
      "\n",
      "Generation 13 - Current best internal CV score: 0.9932589092469927\n",
      "\n",
      "Generation 14 - Current best internal CV score: 0.9932589092469927\n",
      "\n",
      "Generation 15 - Current best internal CV score: 0.9932589092469927\n",
      "\n",
      "Generation 16 - Current best internal CV score: 0.9932589092469927\n",
      "\n",
      "Generation 17 - Current best internal CV score: 0.9932589092469927\n",
      "\n",
      "Generation 18 - Current best internal CV score: 0.9932589092469927\n",
      "\n",
      "Generation 19 - Current best internal CV score: 0.9932589092469927\n",
      "\n",
      "Generation 20 - Current best internal CV score: 0.9932589092469927\n",
      "\n",
      "Best pipeline: KNeighborsClassifier(Normalizer(PolynomialFeatures(SelectPercentile(input_matrix, percentile=90), degree=2, include_bias=False, interaction_only=False), norm=l2), n_neighbors=44, p=2, weights=distance)\n"
     ]
    },
    {
     "data": {
      "text/plain": [
       "TPOTClassifier(cv=10, generations=20, n_jobs=-1, population_size=50,\n",
       "               random_state=42, verbosity=2)"
      ]
     },
     "execution_count": 68,
     "metadata": {},
     "output_type": "execute_result"
    }
   ],
   "source": [
    "tpot.fit(train_df_features, train_df.label)"
   ]
  },
  {
   "cell_type": "markdown",
   "metadata": {},
   "source": [
    "# Save predictions"
   ]
  },
  {
   "cell_type": "code",
   "execution_count": 71,
   "metadata": {},
   "outputs": [
    {
     "name": "stdout",
     "output_type": "stream",
     "text": [
      "0.9987865713900499\n"
     ]
    }
   ],
   "source": [
    "print(accuracy_score(train_df.label, tpot.predict(train_df_features)))\n",
    "VALIDATION_PRED = tpot.predict(validation_df_features)\n",
    "validation_df.label = VALIDATION_PRED\n",
    "validation_df.to_csv(\"TPoT_final_pred.csv\")"
   ]
  },
  {
   "cell_type": "code",
   "execution_count": null,
   "metadata": {},
   "outputs": [],
   "source": []
  }
 ],
 "metadata": {
  "kernelspec": {
   "display_name": "venv",
   "language": "python",
   "name": "venv"
  },
  "language_info": {
   "codemirror_mode": {
    "name": "ipython",
    "version": 3
   },
   "file_extension": ".py",
   "mimetype": "text/x-python",
   "name": "python",
   "nbconvert_exporter": "python",
   "pygments_lexer": "ipython3",
   "version": "3.8.5"
  }
 },
 "nbformat": 4,
 "nbformat_minor": 4
}
